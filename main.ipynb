{
  "cells": [
    {
      "cell_type": "code",
      "execution_count": 1,
      "metadata": {
        "colab": {
          "base_uri": "https://localhost:8080/"
        },
        "id": "_MRzS_C7F2ws",
        "outputId": "c6b859ac-d90e-4858-d16d-bb99be20d0d6"
      },
      "outputs": [
        {
          "ename": "ValueError",
          "evalue": "list.remove(x): x not in list",
          "output_type": "error",
          "traceback": [
            "\u001b[1;31m---------------------------------------------------------------------------\u001b[0m",
            "\u001b[1;31mValueError\u001b[0m                                Traceback (most recent call last)",
            "Cell \u001b[1;32mIn[1], line 54\u001b[0m\n\u001b[0;32m     51\u001b[0m data \u001b[38;5;241m=\u001b[39m glob\u001b[38;5;241m.\u001b[39mglob(\u001b[38;5;124m'\u001b[39m\u001b[38;5;124m/content/*.txt\u001b[39m\u001b[38;5;124m'\u001b[39m)\n\u001b[0;32m     53\u001b[0m \u001b[38;5;66;03m#出力は配列から除く\u001b[39;00m\n\u001b[1;32m---> 54\u001b[0m \u001b[43mdata\u001b[49m\u001b[38;5;241;43m.\u001b[39;49m\u001b[43mremove\u001b[49m\u001b[43m(\u001b[49m\u001b[38;5;124;43m\"\u001b[39;49m\u001b[38;5;124;43m/content/output.txt\u001b[39;49m\u001b[38;5;124;43m\"\u001b[39;49m\u001b[43m)\u001b[49m\n\u001b[0;32m     56\u001b[0m \u001b[38;5;66;03m#0以下または2つ以上ファイルがあるときの例外処理，\u001b[39;00m\n\u001b[0;32m     57\u001b[0m \u001b[38;5;28;01mif\u001b[39;00m \u001b[38;5;28mlen\u001b[39m(data) \u001b[38;5;241m==\u001b[39m \u001b[38;5;241m0\u001b[39m:\n",
            "\u001b[1;31mValueError\u001b[0m: list.remove(x): x not in list"
          ]
        }
      ],
      "source": [
        "# prompt: テキストファイルを読み込んで整形する\n",
        "\n",
        "import re\n",
        "import glob\n",
        "\n",
        "def format_text_file(file_path):\n",
        "\n",
        "  #変数の初期化\n",
        "  bits = []\n",
        "  four_byte = []\n",
        "\n",
        "  #テキストファイルを開く\n",
        "  with open(file_path, 'r') as f:\n",
        "\n",
        "    while True:\n",
        "\n",
        "        bits = []\n",
        "        text = f.readline()\n",
        "\n",
        "        if not text:\n",
        "          break\n",
        "        else:\n",
        "          #バイト列の取得\n",
        "          text = text[9:32]+text[34:58]\n",
        "          text = re.sub(r'[\\n\\r]', '', text)\n",
        "\n",
        "          for i in text.split():\n",
        "            bits.append(i)\n",
        "\n",
        "          #リトルエンディアンの変換\n",
        "\n",
        "          for i in range(0,len(bits),2):\n",
        "            four_byte.append(bits[i+1]+bits[i])\n",
        "\n",
        "    f.close()\n",
        "    return four_byte\n",
        "\n",
        "def hex_to_signed_int(hex_str, bits=16):\n",
        "    # 16進数文字列を10進数の整数に変換\n",
        "    unsigned_int = int(hex_str, 16)\n",
        "\n",
        "    # 符号ビットを考慮して符号付き整数に変換\n",
        "    if unsigned_int >= 2**(bits - 1):\n",
        "        signed_int = unsigned_int - 2**bits\n",
        "    else:\n",
        "        signed_int = unsigned_int\n",
        "\n",
        "    return signed_int\n",
        "\n",
        "#テキストファイルの総取得\n",
        "data = glob.glob('/content/*.txt')\n",
        "\n",
        "#出力は配列から除く\n",
        "if \"/content/output.txt\" in data:\n",
        "  data.remove(\"/content/output.txt\")\n",
        "\n",
        "#0以下または2つ以上ファイルがあるときの例外処理，\n",
        "if len(data) == 0:\n",
        "  print(\"No text files found.\")\n",
        "  exit()\n",
        "\n",
        "if len(data) > 1:\n",
        "  print(\"More than one text file found.\")\n",
        "  exit()\n",
        "\n",
        "#処理の実行\n",
        "hexs = format_text_file(data[0])\n",
        "print(hexs)\n",
        "\n",
        "print()\n",
        "\n",
        "#出力\n",
        "f = open('/content/output.txt',\"w\")\n",
        "print(*list(map(lambda x:hex_to_signed_int(x,16),hexs)),file=f)\n",
        "f.close()\n",
        "\n",
        "\n"
      ]
    }
  ],
  "metadata": {
    "colab": {
      "provenance": []
    },
    "kernelspec": {
      "display_name": "Python 3",
      "name": "python3"
    },
    "language_info": {
      "codemirror_mode": {
        "name": "ipython",
        "version": 3
      },
      "file_extension": ".py",
      "mimetype": "text/x-python",
      "name": "python",
      "nbconvert_exporter": "python",
      "pygments_lexer": "ipython3",
      "version": "3.8.18"
    }
  },
  "nbformat": 4,
  "nbformat_minor": 0
}
